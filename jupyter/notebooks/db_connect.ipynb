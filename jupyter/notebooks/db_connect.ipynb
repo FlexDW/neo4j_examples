{
 "cells": [
  {
   "cell_type": "code",
   "execution_count": null,
   "id": "d2e0ff99",
   "metadata": {},
   "outputs": [],
   "source": [
    "from neo4j import GraphDatabase"
   ]
  },
  {
   "cell_type": "markdown",
   "id": "bb32cc12",
   "metadata": {},
   "source": [
    "##### Connect\n",
    "\n",
    "If the code below prints 'neo4j_examples-neo4j:7687' then the connection is working"
   ]
  },
  {
   "cell_type": "code",
   "execution_count": null,
   "id": "8601764f",
   "metadata": {},
   "outputs": [],
   "source": [
    "driver = GraphDatabase.driver(\"bolt://neo4j_examples-neo4j\", auth=(\"neo4j\", \"admin\"))        \n",
    "print(driver.address)"
   ]
  }
 ],
 "metadata": {
  "kernelspec": {
   "display_name": "Python 3",
   "language": "python",
   "name": "python3"
  },
  "language_info": {
   "codemirror_mode": {
    "name": "ipython",
    "version": 3
   },
   "file_extension": ".py",
   "mimetype": "text/x-python",
   "name": "python",
   "nbconvert_exporter": "python",
   "pygments_lexer": "ipython3",
   "version": "3.8.8"
  }
 },
 "nbformat": 4,
 "nbformat_minor": 5
}
